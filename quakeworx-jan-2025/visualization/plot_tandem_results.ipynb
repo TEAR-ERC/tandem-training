{
 "cells": [
  {
   "cell_type": "markdown",
   "metadata": {},
   "source": [
    "## Tandem visualization and post-processing\n",
    "Author: Jeena Yun (j4yun@ucsd.edu)\n",
    "\n",
    "Did you successfully run Tandem? Now, we will learn about how to process Tandem outputs such that we can produce useful plots showing different aspects of rupture history.\n",
    "\n",
    "### Learning objectives\n",
    "- Learn about output formats of Tandem\n",
    "- Learn about how to visualize outputs at different time and depth\n",
    "- Learn about the effects of changing material properties on the rupture characteristics"
   ]
  },
  {
   "cell_type": "markdown",
   "metadata": {},
   "source": [
    "### Contents\n",
    "\n",
    "- [Understand fault probe outputs](#sec_understand_fp)\n",
    "- [Prepare for plotting: load packages and define path to the outputs](#sec_load_packages)\n",
    "- [Plot time series of a variable on an individual fault probe](#sec_plot_time_series)\n",
    "- [Plot spatiotemporal evolution of slip rate](#sec_plot_slip_rate_image)\n",
    "- [Compare two models](#sec_comp_models)\n",
    "    - [Compare shear moduli ($\\mu$)](#sec_comp_mu)\n",
    "    - [Compare peak slip rates](#sec_comp_psr)\n",
    "    - [Compare spatiotemporal evolution of slip rates](#sec_comp_srimage)\n",
    "- [(Bonus) Plot spatiotemporal evolution of cumulative slip](#sec_bonus)"
   ]
  },
  {
   "cell_type": "markdown",
   "metadata": {},
   "source": [
    "<a id='sec_understand_fp'></a>"
   ]
  },
  {
   "cell_type": "markdown",
   "metadata": {},
   "source": [
    "## Understand fault probe outputs"
   ]
  },
  {
   "cell_type": "markdown",
   "metadata": {},
   "source": [
    "Before we jump into plotting anything, let's learn about Tandem fault probe outputs.\n",
    "\n",
    "In the parameter file, we provided **'name'** and **'location'** of on-fault probes. For example, in your `bp3.toml` file, you'll see:\n",
    "```\n",
    "[fault_probe_output]\n",
    "prefix = \"outputs/fltst_\"\n",
    "t_max = 9460800\n",
    "probes = [\n",
    "    { name = \"dp000\", x = [0.0, -0.0] },\n",
    "    { name = \"dp001\", x = [0.9848077530122079, -0.17364817766693033] },\n",
    "    { name = \"dp002\", x = [1.9696155060244158, -0.34729635533386066] },\n",
    "    ...\n",
    "]\n",
    "```\n",
    "As a result, you'll see files `fltst_dp000.csv`, `fltst_dp001.csv`, `fltst_dp002.csv`, ..., under `outputs` directory."
   ]
  },
  {
   "cell_type": "markdown",
   "metadata": {},
   "source": [
    "Each probe (or each csv file) will record the following variables (in 2D):\n",
    "| Name               | Column Index | Description                                                            | Unit |\n",
    "|--------------------|--------------|------------------------------------------------------------------------|------|\n",
    "| **Time**           | 0            | Time at which the output is written                                    | s    |\n",
    "| **state**          | 1            | State variable $\\phi = f_0 + b \\ln{\\left(V_0 \\theta / L\\right)}$       | -    |\n",
    "| **slip0**          | 2            | Fault slip                                                             | m    |\n",
    "| **traction0**      | 3            | Shear traction on the fault                                            | MPa  |\n",
    "| **slip-rate0**     | 4            | Slip rate on the fault                                                 | m/s  |\n",
    "| **normal-stress**  | 5            | Normal stress on the fault                                             | MPa  |\n",
    "\n",
    "Now, we know how the fault probe output looks like. Let's make some figures."
   ]
  },
  {
   "cell_type": "markdown",
   "metadata": {},
   "source": [
    "<a id='sec_load_packages'></a>"
   ]
  },
  {
   "cell_type": "markdown",
   "metadata": {},
   "source": [
    "## Prepare for plotting: load packages and define path to the outputs"
   ]
  },
  {
   "cell_type": "markdown",
   "metadata": {},
   "source": [
    "Let's first find where your output lives. All the job outputs you ran through the gateway are accessible through this **Jupyter Notebook Expanse** app.\n",
    "\n",
    "To check the job names:"
   ]
  },
  {
   "cell_type": "code",
   "execution_count": null,
   "metadata": {},
   "outputs": [],
   "source": [
    "!ls ../                 # putting ! in the front is equivalent to typing ls in terminal"
   ]
  },
  {
   "cell_type": "markdown",
   "metadata": {},
   "source": [
    "Using the information shown above, define the path to your Tandem output."
   ]
  },
  {
   "cell_type": "code",
   "execution_count": null,
   "metadata": {},
   "outputs": [],
   "source": [
    "# save_dir = '../YOUR_JOB_NAME/'\n",
    "save_dir = '/Users/j4yun/Desktop/quakeworx/tandem/training_test_BP3_highres/'"
   ]
  },
  {
   "cell_type": "markdown",
   "metadata": {},
   "source": [
    "Then, load python packages that are commonly used throughout this notebook"
   ]
  },
  {
   "cell_type": "code",
   "execution_count": null,
   "metadata": {},
   "outputs": [],
   "source": [
    "import numpy as np                       # contains a number of useful functions\n",
    "import pandas as pd                      # efficiently loads csv files\n",
    "import matplotlib.pyplot as plt          # essential for plotting \n",
    "\n",
    "yr2sec = 365*24*60*60               # A year in seconds; useful when plotting Tandem simulations of thousands of years\n",
    "plt.rcParams['font.size'] = '15'    # Define default font size for plots"
   ]
  },
  {
   "cell_type": "markdown",
   "metadata": {},
   "source": [
    "Now, we are ready to plot Tandem outputs!"
   ]
  },
  {
   "cell_type": "markdown",
   "metadata": {},
   "source": [
    "<a id='sec_plot_time_series'></a>"
   ]
  },
  {
   "cell_type": "markdown",
   "metadata": {},
   "source": [
    "## Plot time series of a variable on an individual fault probe"
   ]
  },
  {
   "cell_type": "markdown",
   "metadata": {},
   "source": [
    "We will start from making the simplest plot by reading one of the csv files and plot a time series of a variable.\n",
    "\n",
    "For example, let's make a time series of on-fault variables recorded at probe `fltst_dp044.csv`."
   ]
  },
  {
   "cell_type": "code",
   "execution_count": null,
   "metadata": {},
   "outputs": [],
   "source": [
    "# Define target csv file name\n",
    "fname = save_dir + 'outputs/fltst_dp044.csv'\n",
    "\n",
    "# Read csv file using pandas package\n",
    "# Each field is seperated by commas, so use delimiter=','\n",
    "# Skip the first row, which is a comment showing the probe location, to keep the header information\n",
    "dat = pd.read_csv(fname, delimiter=',', skiprows=1)"
   ]
  },
  {
   "cell_type": "markdown",
   "metadata": {},
   "source": [
    "All the variables are accessible using the header name:"
   ]
  },
  {
   "cell_type": "code",
   "execution_count": null,
   "metadata": {},
   "outputs": [],
   "source": [
    "print(dat['slip0'])"
   ]
  },
  {
   "cell_type": "markdown",
   "metadata": {},
   "source": [
    "It is useful to keep track of the probe location by reading the first row of the csv file:"
   ]
  },
  {
   "cell_type": "code",
   "execution_count": null,
   "metadata": {},
   "outputs": [],
   "source": [
    "# Save station location by reading only the first row\n",
    "probeloc_str = pd.read_csv(fname, nrows=1, header=None).values # the first row is saved as a string\n",
    "\n",
    "# Extract x and y location of the probe from the string\n",
    "probe_x,probe_y = float(probeloc_str[0][0].split('[')[-1]),float(probeloc_str[0][-1].split(']')[0])"
   ]
  },
  {
   "cell_type": "markdown",
   "metadata": {},
   "source": [
    "Now, let's plot time series of slip rate and shear traction:"
   ]
  },
  {
   "cell_type": "code",
   "execution_count": null,
   "metadata": {},
   "outputs": [],
   "source": [
    "# Plot time-series\n",
    "fig, [ax,ax2] = plt.subplots(ncols=2, figsize = (14,6))\n",
    "\n",
    "ax.plot(dat['Time']/yr2sec, np.log10(abs(dat['slip-rate0'])), color='k', lw=2.5)\n",
    "ax.set_xlabel('Time [yr]', fontsize=17)\n",
    "ax.set_ylabel('$\\log_{10}$(Slip Rate [m/s])', fontsize=17)\n",
    "ax.grid(True, alpha=0.5)\n",
    "\n",
    "ax2.plot(dat['Time']/yr2sec, dat['traction0'], color='k', lw=2.5)\n",
    "ax2.set_xlabel('Time [yr]', fontsize=17)\n",
    "ax2.set_ylabel('Shear Traction [MPa]', fontsize=17)\n",
    "ax2.grid(True, alpha=0.5)\n",
    "\n",
    "fig.suptitle('Station: [%1.4f, %1.4f]'%(probe_x,probe_y), fontsize=20, fontweight = 'bold')\n",
    "plt.tight_layout()\n",
    "plt.show()"
   ]
  },
  {
   "cell_type": "markdown",
   "metadata": {},
   "source": [
    "<a id='sec_plot_slip_rate_image'></a>"
   ]
  },
  {
   "cell_type": "markdown",
   "metadata": {},
   "source": [
    "## Plot spatiotemporal evolution of slip rate"
   ]
  },
  {
   "cell_type": "markdown",
   "metadata": {},
   "source": [
    "How about plotting the spatiotemporal evolution of variables along the entire fault? \n",
    "\n",
    "To do this, we need to save all outputs from all probes into a single array. The function below will read all fault probe outputs and save them into a numpy array."
   ]
  },
  {
   "cell_type": "code",
   "execution_count": null,
   "metadata": {},
   "outputs": [],
   "source": [
    "from glob import glob     # enables global search on fault probe outputs\n",
    "\n",
    "def load_fault_probe_outputs(save_dir):\n",
    "    # Search all fault probe outputs\n",
    "    fnames = glob(save_dir + 'outputs/fltst_*.csv')\n",
    "\n",
    "    print('Start computing output... ',end='')\n",
    "    # Iteratively read all csv files and append data and station locations into an empty array \n",
    "    # The resulting array will have a dimension of (# probes, # time steps, # variables (=6))\n",
    "    outputs,dep=[],[]\n",
    "    for fname in np.sort(fnames):\n",
    "        # Read and append data\n",
    "        dat = pd.read_csv(fname, delimiter=',', skiprows=1)\n",
    "        outputs.append(dat.values)\n",
    "\n",
    "        # Read and append station depth information\n",
    "        probeloc_str = pd.read_csv(fname, nrows=1, header=None)\n",
    "        dep.append(float(probeloc_str.values[0][-1].split(']')[0]))\n",
    "\n",
    "    # Convert to numpy array for convenience\n",
    "    outputs = np.array(outputs)\n",
    "    dep = np.array(dep)\n",
    "\n",
    "    # Sort the array by depth and \n",
    "    ii = np.argsort(abs(dep))\n",
    "    outputs = outputs[ii,:,:]\n",
    "    dep = dep[ii]\n",
    "    print('Done!')\n",
    "\n",
    "    return outputs, dep"
   ]
  },
  {
   "cell_type": "markdown",
   "metadata": {},
   "source": [
    "With this array, we can extract, e.g, slip rate, for all depths and time steps"
   ]
  },
  {
   "cell_type": "code",
   "execution_count": null,
   "metadata": {},
   "outputs": [],
   "source": [
    "outputs,dep = load_fault_probe_outputs(save_dir)\n",
    "sr = abs(outputs[:,:,4])       # slip rate is in 4th column"
   ]
  },
  {
   "cell_type": "markdown",
   "metadata": {},
   "source": [
    "To plot it as a 2D image, we need a meshgrid of x- (time step) and y- (depth) coordinates:"
   ]
  },
  {
   "cell_type": "code",
   "execution_count": null,
   "metadata": {},
   "outputs": [],
   "source": [
    "xax = np.arange(sr.shape[1])   # define x-axis as time steps\n",
    "X,Y = np.meshgrid(xax,abs(dep))      # use meshgrid to combine x- and y- coordinates"
   ]
  },
  {
   "cell_type": "markdown",
   "metadata": {},
   "source": [
    "Here, we import the colormap I specifically put together to make slip rate plots that better capture different rupture speeds:\n",
    "- Red: coseismic slip rate\n",
    "- Yellow: aseismic slip rate comparable to the reference slip rate (V0)\n",
    "- Blue: stable creep of about plate loading rate (Vp)\n",
    "- Black: locked\n",
    "\n",
    "Like before, we are plotting the slip rate in log10 scale to see a wide spectrum of velocities."
   ]
  },
  {
   "cell_type": "code",
   "execution_count": null,
   "metadata": {},
   "outputs": [],
   "source": [
    "from cmap_for_sliprate import auto_cmap_for_sliprate\n",
    "cmap, norm = auto_cmap_for_sliprate()"
   ]
  },
  {
   "cell_type": "markdown",
   "metadata": {},
   "source": [
    "Using this colormap, we obtain a plot of spatiotemporal evolution of slip rate"
   ]
  },
  {
   "cell_type": "code",
   "execution_count": null,
   "metadata": {},
   "outputs": [],
   "source": [
    "fig,ax=plt.subplots(figsize=(14,7)) # figure size\n",
    "    \n",
    "cb = plt.pcolormesh(X, Y, sr, cmap=cmap, norm=norm)    \n",
    "plt.colorbar(cb,extend='both').set_label('Slip Rate [m/s]',fontsize=17,rotation=270,labelpad=30) # vertical colorbar\n",
    "\n",
    "plt.xlabel('Timesteps',fontsize=17)\n",
    "plt.ylabel('Depth [km]',fontsize=17)\n",
    "plt.xlim(0,np.max(X))\n",
    "plt.ylim(np.max(abs(Y)),0)\n",
    "\n",
    "plt.tight_layout()"
   ]
  },
  {
   "cell_type": "markdown",
   "metadata": {},
   "source": [
    "<a id='sec_comp_models'></a>"
   ]
  },
  {
   "cell_type": "markdown",
   "metadata": {},
   "source": [
    "## Compare two models"
   ]
  },
  {
   "cell_type": "markdown",
   "metadata": {},
   "source": [
    "A moment ago, we ran two models, one with a uniform shear modulus and the other with a depth-varying shear modulus $\\mu$.\n",
    "\n",
    "We will now learn how to compare material properties and resulting peak slip rate from different models."
   ]
  },
  {
   "cell_type": "markdown",
   "metadata": {},
   "source": [
    "First, define output path to each job."
   ]
  },
  {
   "cell_type": "code",
   "execution_count": null,
   "metadata": {},
   "outputs": [],
   "source": [
    "# save_dir = '../UNIFORM_JOBNAME/'\n",
    "# save_dir_depvar = '../DEP_VAR_JOBNAME/'\n",
    "save_dir = '/Users/j4yun/Desktop/quakeworx/tandem/training_test_BP3_highres/'\n",
    "save_dir_depvar = '/Users/j4yun/Desktop/quakeworx/tandem/depth_varying_r/'"
   ]
  },
  {
   "cell_type": "markdown",
   "metadata": {},
   "source": [
    "<a id='sec_comp_mu'></a>"
   ]
  },
  {
   "cell_type": "markdown",
   "metadata": {},
   "source": [
    "### **Compare shear moduli ($\\mu$)**"
   ]
  },
  {
   "cell_type": "markdown",
   "metadata": {},
   "source": [
    "The functions defined in `.lua` file can be called in python using `LuaRuntime` from a package called `lupa`: "
   ]
  },
  {
   "cell_type": "code",
   "execution_count": null,
   "metadata": {},
   "outputs": [],
   "source": [
    "from lupa import LuaRuntime\n",
    "\n",
    "# Define a function to call from Lua file\n",
    "def load_from_lua(save_dir):\n",
    "    # Initiate Lua callback\n",
    "    lua = LuaRuntime()\n",
    "\n",
    "    # Open and read Lua file\n",
    "    with open(save_dir+'bp3.lua', \"r\") as f:    # you can change the name of lua file later\n",
    "        lua_code = f.read()\n",
    "    lua.execute(lua_code)                       # execute lines in Lua\n",
    "\n",
    "    # 2. Access a specific scenario\n",
    "    scenario = lua.globals().bp3_custom         # 'bp3_custom' is the name of the scenario we defined in the lua file\n",
    "    return scenario"
   ]
  },
  {
   "cell_type": "markdown",
   "metadata": {},
   "source": [
    "Now, load the scenairo information for each model:"
   ]
  },
  {
   "cell_type": "code",
   "execution_count": null,
   "metadata": {},
   "outputs": [],
   "source": [
    "# Read lua files for both models\n",
    "scenario = load_from_lua(save_dir)\n",
    "scenario_depvar = load_from_lua(save_dir_depvar)"
   ]
  },
  {
   "cell_type": "markdown",
   "metadata": {},
   "source": [
    "The variables and functions defined in each scenario can be executed: E.g.,"
   ]
  },
  {
   "cell_type": "code",
   "execution_count": null,
   "metadata": {},
   "outputs": [],
   "source": [
    "print('amax =',scenario.amax) # constant 'amax' in the uniform mu model\n",
    "print('mu(0,10) =',scenario.mu(scenario,0,10),'(uniform mu)') # function 'mu(x,y)' in the uniform mu model, executed at (x,y) = (0,10)\n",
    "print('mu(0,10) =',scenario_depvar.mu(scenario_depvar,0,10),'(depth-varying mu)') # function 'mu(x,y)' in the depth-varying mu model, executed at (x,y) = (0,10)"
   ]
  },
  {
   "cell_type": "markdown",
   "metadata": {},
   "source": [
    "Let's use this Lua callback to plot spatial distributions of $\\mu$ in both models."
   ]
  },
  {
   "cell_type": "code",
   "execution_count": null,
   "metadata": {},
   "outputs": [],
   "source": [
    "# Set depth and distance ranges\n",
    "depth = np.linspace(0, 50, 100)  # 100 points from 0 to 50\n",
    "distance = np.linspace(-50, 50, 100)  # 100 points from -50 to 50\n",
    "\n",
    "# Compute mu values in a double loop\n",
    "mu = np.zeros((len(depth), len(distance)))            # empty array to save mu values (for uniform)\n",
    "mu_depvar = np.zeros((len(depth), len(distance)))     # empty array to save mu values (for depth-varying)\n",
    "for i, depth_i in enumerate(depth):\n",
    "    for j, distance_j in enumerate(distance):\n",
    "        mu[i, j] = scenario.mu(scenario, distance_j, depth_i)  # direct call into Lua\n",
    "        mu_depvar[i, j] = scenario_depvar.mu(scenario_depvar, distance_j, depth_i)\n",
    "\n",
    "\n",
    "# Plot results using imshow\n",
    "fig, [ax,ax2] = plt.subplots(ncols=2, figsize=(14, 5))  # initiate a plot with two panels\n",
    "\n",
    "# Panel 1. Unifrom mu\n",
    "# We will use the same vmin & vmax for both panels for direct comparison\n",
    "im = ax.imshow(mu, extent=[distance.min(), distance.max(), depth.max(), depth.min()], aspect='auto', vmin=np.min(mu_depvar), vmax=np.max(mu_depvar))\n",
    "plt.colorbar(im,ax=ax,label=r'$\\mu$ [GPa]')\n",
    "ax.set_xlabel('Distance from Trench [km]', fontsize=17)\n",
    "ax.set_ylabel('Depth [km]', fontsize=17)\n",
    "ax.set_title(r'Uniform $\\bf\\mu$', fontsize=20, fontweight='bold')\n",
    "\n",
    "# Panel 2. Depth-varying mu\n",
    "im = ax2.imshow(mu_depvar, extent=[distance.min(), distance.max(), depth.max(), depth.min()], aspect='auto', vmin=np.min(mu_depvar), vmax=np.max(mu_depvar))\n",
    "plt.colorbar(im,ax=ax2,label=r'$\\mu$ [GPa]')\n",
    "ax2.set_xlabel('Distance from Trench [km]', fontsize=17)\n",
    "ax2.set_ylabel('Depth [km]', fontsize=17)\n",
    "ax2.set_title(r'Depth-varying $\\bf\\mu$', fontsize=20, fontweight='bold')\n",
    "\n",
    "plt.tight_layout()\n",
    "plt.show()"
   ]
  },
  {
   "cell_type": "markdown",
   "metadata": {},
   "source": [
    "<a id='sec_comp_psr'></a>"
   ]
  },
  {
   "cell_type": "markdown",
   "metadata": {},
   "source": [
    "### **Compare peak slip rates**"
   ]
  },
  {
   "cell_type": "markdown",
   "metadata": {},
   "source": [
    "We checked how to visualize differences in the material properties. Now, let's see how these differences in material properties affect the rupture dynamics.\n",
    "\n",
    "Comparing peak slip rate is a good way to understand differences in slip rate and recurrence intervals."
   ]
  },
  {
   "cell_type": "markdown",
   "metadata": {},
   "source": [
    "Let's first compute the peak slip rate, using the array output. Array output for each model can be computed using the `load_fault_probe_outputs` function we defined above"
   ]
  },
  {
   "cell_type": "code",
   "execution_count": null,
   "metadata": {},
   "outputs": [],
   "source": [
    "# Compute array outputs\n",
    "outputs, dep = load_fault_probe_outputs(save_dir)\n",
    "outputs_depvar, dep_depvar = load_fault_probe_outputs(save_dir_depvar)\n",
    "\n",
    "# Extract slip rates\n",
    "sr = outputs[:,:,4]\n",
    "sr_depvar = outputs_depvar[:,:,4]\n",
    "\n",
    "# Understand the size of the slip rate output\n",
    "print(sr.shape)"
   ]
  },
  {
   "cell_type": "markdown",
   "metadata": {},
   "source": [
    "Note the size of the slip rate output is (# probes, # time step). We want to compute the peak slip rate along depth for each time step. This can be done by using the `np.max` function with appropriate `axis` argument:"
   ]
  },
  {
   "cell_type": "code",
   "execution_count": null,
   "metadata": {},
   "outputs": [],
   "source": [
    "# Compute peak slip rate along the entire fault\n",
    "psr = np.max(sr,axis=0)\n",
    "psr_depvar = np.max(sr_depvar,axis=0)\n",
    "\n",
    "# Check the size of the peak slip rate output\n",
    "print(psr.shape)"
   ]
  },
  {
   "cell_type": "markdown",
   "metadata": {},
   "source": [
    "You will see that the peak slip rate output has a correct size equal to the number of time steps. Then, plot the two model results together to compare the difference."
   ]
  },
  {
   "cell_type": "code",
   "execution_count": null,
   "metadata": {},
   "outputs": [],
   "source": [
    "# Plot time-series\n",
    "plt.figure(figsize = (10,6))\n",
    "plt.plot(outputs[0,:,0]/yr2sec, np.log10(psr), color='k', lw=2.5, label=r'Uniform $\\mu$') # outputs[0,:,0] contains time information at the surface\n",
    "plt.plot(outputs_depvar[0,:,0]/yr2sec, np.log10(psr_depvar), color='r', lw=2.5, label=r'Depth-varying $\\mu$')\n",
    "plt.xlabel('Time [yr]', fontsize=17)\n",
    "plt.ylabel('$log_{10}$(Peak Slip Rate [m/s])', fontsize=17)\n",
    "plt.legend(fontsize=12)\n",
    "plt.grid(True, alpha=0.5)\n",
    "plt.tight_layout()\n",
    "plt.show()"
   ]
  },
  {
   "cell_type": "markdown",
   "metadata": {},
   "source": [
    "<a id='sec_comp_srimage'></a>"
   ]
  },
  {
   "cell_type": "markdown",
   "metadata": {},
   "source": [
    "### **Compare spatiotemporal evolution of slip rates**"
   ]
  },
  {
   "cell_type": "markdown",
   "metadata": {},
   "source": [
    "Or, plot spatiotemporal variation of slip rate in the depth-varying $\\mu$ model and compare it with the uniform $\\mu$ model."
   ]
  },
  {
   "cell_type": "code",
   "execution_count": null,
   "metadata": {},
   "outputs": [],
   "source": [
    "# Define x- and y- coordinates\n",
    "xax = np.arange(sr_depvar.shape[1])   # define x-axis as time steps\n",
    "X,Y = np.meshgrid(xax,abs(dep_depvar))      # use meshgrid to combine x- and y- coordinates\n",
    "\n",
    "# Define custom colormap\n",
    "from cmap_for_sliprate import auto_cmap_for_sliprate\n",
    "cmap, norm = auto_cmap_for_sliprate()\n",
    "\n",
    "# Plot using pcolormesh\n",
    "fig,ax=plt.subplots(figsize=(14,7)) # figure size\n",
    "    \n",
    "cb = plt.pcolormesh(X, Y, sr_depvar, cmap=cmap, norm=norm)    \n",
    "plt.colorbar(cb,extend='both').set_label('Slip Rate [m/s]',fontsize=17,rotation=270,labelpad=30) # vertical colorbar\n",
    "\n",
    "plt.xlabel('Timesteps',fontsize=17)\n",
    "plt.ylabel('Depth [km]',fontsize=17)\n",
    "plt.xlim(0,np.max(X))\n",
    "plt.ylim(np.max(abs(Y)),0)\n",
    "\n",
    "plt.tight_layout()"
   ]
  },
  {
   "cell_type": "markdown",
   "metadata": {},
   "source": [
    "<a id='sec_bonus'></a>"
   ]
  },
  {
   "cell_type": "markdown",
   "metadata": {},
   "source": [
    "## (Bonus) Plot spatiotemporal evolution of cumulative slip"
   ]
  },
  {
   "cell_type": "markdown",
   "metadata": {},
   "source": [
    "Well done, all of you, who successfully followed the tutorial! You're now ready to visualize various aspects of your model. For those of you who are interested more in SEAS models, I'm leaving a small bonus scripts here.\n",
    "\n",
    "Plotting spatiotemporal evolution of cumulative slip along the entire fault is very common practice to understand the rupture evolution of SEAS models. I provided a automatized script to create such plot."
   ]
  },
  {
   "cell_type": "markdown",
   "metadata": {},
   "source": [
    "The following script will plot coseismic slip evolution (in pink) and interseismic slip evolution (in grey). The slip evolution is expressed by slip contours, plotted every given `dt_coseismic` seconds (coseismic) and `dt_creep` years (interseismic)."
   ]
  },
  {
   "cell_type": "code",
   "execution_count": null,
   "metadata": {},
   "outputs": [],
   "source": [
    "# Define input parameters\n",
    "Vths = 1e-2                 # Slip rate threshold defining coseismic rupture [m/s]\n",
    "dt_creep = 5                # Time interval for interseismic slip contour [yr]\n",
    "dt_coseismic = 1            # Time interval for coseismic slip contour [s]\n",
    "\n",
    "# Compute cumulative slip outputs\n",
    "from cumslip_plot import compute_cumslip\n",
    "cumslip_outputs = compute_cumslip(outputs,dep,Vths,dt_creep*yr2sec,dt_coseismic,print_on=True)\n",
    "\n",
    "# Plot\n",
    "fig,ax = plt.subplots(figsize = (8,6))\n",
    "ax.plot(cumslip_outputs['cscoseis'], cumslip_outputs['depcoseis'], color=(200/255,110/255,110/255), lw=1)\n",
    "ax.plot(cumslip_outputs['cscreep'], cumslip_outputs['depcreep'], color='0.62', lw=1)\n",
    "ax.set_xlabel('Cumulative Slip [m]', fontsize=17)\n",
    "ax.set_ylabel('Depth [km]', fontsize=17)\n",
    "xl = ax.get_xlim()\n",
    "ax.set_xlim(0,xl[1])\n",
    "ax.set_ylim(max([np.max(np.absolute(cumslip_outputs['depcoseis'])),np.max(np.absolute(cumslip_outputs['depcreep']))]),0)\n",
    "plt.tight_layout()\n",
    "plt.show()"
   ]
  }
 ],
 "metadata": {
  "language_info": {
   "name": "python"
  }
 },
 "nbformat": 4,
 "nbformat_minor": 2
}
